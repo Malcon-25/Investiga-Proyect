{
 "cells": [
  {
   "cell_type": "code",
   "execution_count": 4,
   "id": "a7c118f3",
   "metadata": {},
   "outputs": [
    {
     "name": "stdout",
     "output_type": "stream",
     "text": [
      "Estado: Infeasible\n",
      "Decisión de implementación de red:\n",
      "Cable_convencional = 3000.0\n",
      "Fibra_optica = 1.0\n",
      "Se recomienda instalar Fibra Óptica.\n",
      "Costo inicial de instalación: $ 15000\n",
      "Costo anual de financiamiento: $ 1500.0\n",
      "Costo total del proyecto (instalación + financiamiento): $ 16500.0\n",
      "Ancho de banda proporcionado: hasta 100 Gbps\n"
     ]
    }
   ],
   "source": [
    "from pulp import *\n",
    "\n",
    "# Crear el problema de minimización\n",
    "prob = LpProblem(\"Decision de Implementacion de Red\", LpMinimize)\n",
    "\n",
    "# Variables de decisión\n",
    "x_fibra = LpVariable(\"Fibra_optica\", cat=LpBinary)\n",
    "x_convencional = LpVariable(\"Cable_convencional\", cat=LpBinary)\n",
    "\n",
    "# Costos iniciales y de financiamiento\n",
    "costo_inicial_fibra = 15000\n",
    "costo_inicial_convencional = 12000\n",
    "interes_anual_fibra = 0.10\n",
    "interes_anual_convencional = 0.15\n",
    "\n",
    "# Función objetivo (Costo total incluyendo financiamiento anual)\n",
    "costo_total_fibra = costo_inicial_fibra + costo_inicial_fibra * interes_anual_fibra\n",
    "costo_total_convencional = costo_inicial_convencional + costo_inicial_convencional * interes_anual_convencional\n",
    "\n",
    "prob += costo_total_fibra * x_fibra + costo_total_convencional * x_convencional, \"Costo_Total\"\n",
    "\n",
    "# Restricción de elección única\n",
    "prob += x_fibra + x_convencional == 1, \"Restriccion_Unica\"\n",
    "\n",
    "# Restricción de presupuesto disponible\n",
    "# En lugar de incluir el financiamiento disponible, ajustamos a los costos anuales adicionales\n",
    "prob += costo_inicial_fibra * x_fibra <= 10000 + 10000 * interes_anual_fibra, \"Restriccion_Financiamiento_Fibra\"\n",
    "prob += costo_inicial_convencional * x_convencional <= 10000 + 10000 * interes_anual_convencional, \"Restriccion_Financiamiento_Cable\"\n",
    "\n",
    "# Restricciones de velocidad (capacidad mínima de 1000 usuarios)\n",
    "# Asumimos que cada usuario requiere 1 Mbps de velocidad\n",
    "prob += 100 * x_fibra + 0.3 * x_convencional >= 1000, \"Restriccion_Velocidad\"\n",
    "\n",
    "# Resolver el problema\n",
    "prob.solve()\n",
    "\n",
    "# Imprimir resultados\n",
    "print(\"Estado:\", LpStatus[prob.status])\n",
    "print(\"Decisión de implementación de red:\")\n",
    "\n",
    "for v in prob.variables():\n",
    "    print(v.name, \"=\", v.varValue)\n",
    "\n",
    "# Cálculo de costos\n",
    "costo_anual_fibra = costo_inicial_fibra * interes_anual_fibra\n",
    "costo_anual_convencional = costo_inicial_convencional * interes_anual_convencional\n",
    "costo_total_proyecto_fibra = costo_inicial_fibra + costo_anual_fibra\n",
    "costo_total_proyecto_convencional = costo_inicial_convencional + costo_anual_convencional\n",
    "\n",
    "# Determinar cuál es más barato instalar y cuál conviene más en términos de ancho de banda\n",
    "if value(x_fibra) == 1:\n",
    "    print(\"Se recomienda instalar Fibra Óptica.\")\n",
    "    costo_inicial = costo_inicial_fibra\n",
    "    costo_anual = costo_anual_fibra\n",
    "    costo_total_proyecto = costo_total_proyecto_fibra\n",
    "    ancho_banda = \"hasta 100 Gbps\"\n",
    "else:\n",
    "    print(\"Se recomienda instalar Cable Convencional.\")\n",
    "    costo_inicial = costo_inicial_convencional\n",
    "    costo_anual = costo_anual_convencional\n",
    "    costo_total_proyecto = costo_total_proyecto_convencional\n",
    "    ancho_banda = \"hasta 300 Mbps\"\n",
    "\n",
    "print(\"Costo inicial de instalación: $\", costo_inicial)\n",
    "print(\"Costo anual de financiamiento: $\", costo_anual)\n",
    "print(\"Costo total del proyecto (instalación + financiamiento): $\", costo_total_proyecto)\n",
    "print(\"Ancho de banda proporcionado:\", ancho_banda)\n"
   ]
  }
 ],
 "metadata": {
  "celltoolbar": "Attachments",
  "kernelspec": {
   "display_name": "Python 3",
   "language": "python",
   "name": "python3"
  },
  "language_info": {
   "codemirror_mode": {
    "name": "ipython",
    "version": 3
   },
   "file_extension": ".py",
   "mimetype": "text/x-python",
   "name": "python",
   "nbconvert_exporter": "python",
   "pygments_lexer": "ipython3",
   "version": "3.12.3"
  }
 },
 "nbformat": 4,
 "nbformat_minor": 5
}
